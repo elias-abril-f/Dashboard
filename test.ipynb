{
 "cells": [
  {
   "cell_type": "code",
   "execution_count": 12,
   "metadata": {},
   "outputs": [],
   "source": [
    "\n",
    "import holoviews as hv\n",
    "import panel as pn\n",
    "import numpy as np\n",
    "import pandas as pd\n",
    "import hvplot.pandas\n",
    "def test():\n",
    "    df = pd.read_csv(\"./data/stations_start.csv\")\n",
    "    def map():\n",
    "        return df.hvplot.points(\"lon\", \"lat\", geo=True, hover_cols='Name',tiles=True, xaxis=None, yaxis=None, responsive=True)\n",
    "    return pn.Column(\n",
    "        pn.pane.HoloViews(hv.DynamicMap(map), sizing_mode=\"stretch_both\"),\n",
    "                sizing_mode=\"stretch_both\",\n",
    "    )\n",
    "test()"
   ]
  }
 ],
 "metadata": {
  "kernelspec": {
   "display_name": "PandasProject",
   "language": "python",
   "name": "python3"
  },
  "language_info": {
   "codemirror_mode": {
    "name": "ipython",
    "version": 3
   },
   "file_extension": ".py",
   "mimetype": "text/x-python",
   "name": "python",
   "nbconvert_exporter": "python",
   "pygments_lexer": "ipython3",
   "version": "3.11.0"
  },
  "orig_nbformat": 4,
  "vscode": {
   "interpreter": {
    "hash": "4d7f6ab8965084dc52073a2d8482314ba311c7495bf7c7a9639db5992bb0532a"
   }
  }
 },
 "nbformat": 4,
 "nbformat_minor": 2
}
