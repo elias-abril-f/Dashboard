{
 "cells": [
  {
   "cell_type": "code",
   "execution_count": 20,
   "metadata": {},
   "outputs": [],
   "source": [
    "\n",
    "import holoviews as hv\n",
    "import panel as pn\n",
    "import numpy as np\n",
    "import pandas as pd\n",
    "import geopandas as gpd\n",
    "import re\n",
    "from panel.template import FastGridTemplate\n",
    "from panel.template import DarkTheme\n",
    "import hvplot.pandas\n",
    "import param\n",
    "\n",
    "MAIN = \"#D6ADD0\"\n",
    "ACCENT = \"#724175\"\n"
   ]
  },
  {
   "cell_type": "code",
   "execution_count": 21,
   "metadata": {},
   "outputs": [],
   "source": [
    "df = pd.read_csv(\"./data/trips_by_year.csv\", sep=\",\")\n",
    "df2 = pd.read_csv(\"./data/trips_by_month.csv\", sep=\",\")\n",
    "df3 = pd.read_csv(\"./data/trips_by_hour.csv\", sep=\",\")\n",
    "df3[\"mean\"] = df3[\"trips\"].mean()"
   ]
  },
  {
   "cell_type": "code",
   "execution_count": 42,
   "metadata": {},
   "outputs": [],
   "source": [
    "#### working with kdims \n",
    "def _create_barandlinewidget(data,title, x, xlabel):\n",
    "   \n",
    "    def plot(column=\"duration(year)\"):\n",
    "        def hooks(plot, element):\n",
    "            p = plot.state\n",
    "            p.toolbar.autohide = True\n",
    "            p.toolbar.logo = None\n",
    "            if \"trips\" in column:\n",
    "                p.yaxis.ticker=[0,2000000,4000000,6000000,8000000]\n",
    "                p.yaxis.major_label_overrides={0:\"0\",2000000:\"2M\",4000000:\"4M\",6000000:\"6M\",8000000:\"8M\"} \n",
    "            else:\n",
    "                p.yaxis.ticker = np.arange(0, 1400, 200)\n",
    "                p.yaxis.major_label.overrides={0:\"0\", 200:\"200\", 400:\"400\", 600:\"600\", 800:\"800\", 1000:\"1000\",1200:\"1200\", 1400:\"1400\"}\n",
    "    \n",
    "        return data.hvplot(kind=\"bar\",\n",
    "                           x=x,\n",
    "                           title=title,\n",
    "                           y=column,\n",
    "                           color=MAIN,\n",
    "                           xlabel=xlabel,\n",
    "                           line_color=\"white\",\n",
    "                           responsive=True,\n",
    "                           min_width=350,\n",
    "                           min_height=250,\n",
    "                           ylabel=re.sub(r\"\\([a-z,A-Z]*\\)\",\"\", str(column)).capitalize(),\n",
    "                           label=re.sub(r\"\\([a-z,A-Z]*\\)\",\"\", str(column)).capitalize()).opts(legend_position='top', hooks=[hooks]) \\\n",
    "                               * data.hvplot(kind=\"line\",\n",
    "                                           x=x,\n",
    "                                           y=f\"mean{column}\",\n",
    "                                           responsive=True, \n",
    "                                           line_color=\"white\",\n",
    "                                           label=\"Mean\")\n",
    "\n",
    "    dmap = hv.DynamicMap(plot, kdims=[\"column\"],sizing_mode=\"stretch_both\").redim.values(column=[f\"duration({x})\", f\"trips({x})\"])\n",
    "    hv_panel = pn.panel(dmap)\n",
    "    widget = hv_panel[1]\n",
    "    return pn.Column(\n",
    "        pn.Row(*widget),\n",
    "        hv_panel[0],\n",
    "        \n",
    "        sizing_mode=\"stretch_both\",\n",
    "    )"
   ]
  },
  {
   "cell_type": "code",
   "execution_count": 43,
   "metadata": {},
   "outputs": [],
   "source": [
    "def _create_barandline(data,title, x, y, y2, xlabel, ylabel, label, label2):\n",
    "    def hooks(plot, element):\n",
    "        p = plot.state\n",
    "        p.toolbar.autohide = True\n",
    "        p.toolbar.logo = None\n",
    "        p.yaxis.ticker=[0,2000000,4000000,6000000,8000000]\n",
    "        p.yaxis.major_label_overrides={0:\"0\",2000000:\"2M\",4000000:\"4M\",6000000:\"6M\",8000000:\"8M\"} \n",
    "        p.toolbar_location = \"above\"\n",
    " \n",
    "    def plot():\n",
    "        return data.hvplot.bar(title=title,\n",
    "                               x=x,\n",
    "                               xlabel=xlabel,\n",
    "                               ylabel=ylabel,\n",
    "                               y=y,\n",
    "                               color=MAIN,\n",
    "                               responsive=True,\n",
    "                               line_color=\"white\",\n",
    "                               min_width=350,\n",
    "                               min_height=250,\n",
    "                               label=label).opts(legend_position=\"right\",\n",
    "                               hooks=[hooks]) \\\n",
    "        * df3.hvplot.line(x=x,\n",
    "                          y=y2,\n",
    "                          color=ACCENT,\n",
    "                          responsive=True,\n",
    "                          min_width=300,\n",
    "                          min_height=150,\n",
    "                          line_color=\"white\",\n",
    "                          label=label2)\n",
    "    return pn.Column(\n",
    "        pn.pane.HoloViews(hv.DynamicMap(plot), sizing_mode=\"stretch_both\"),\n",
    "                sizing_mode=\"stretch_both\",\n",
    "    )"
   ]
  },
  {
   "cell_type": "code",
   "execution_count": 44,
   "metadata": {},
   "outputs": [],
   "source": [
    "def _create_map():\n",
    "    df = pd.read_csv(\"./data/coordinatesGeo.csv\")\n",
    "    dfgeo = gpd.GeoDataFrame(\n",
    "    df.loc[:, [c for c in df.columns if c != \"geometry\"]],\n",
    "    geometry=gpd.GeoSeries.from_wkt(df[\"geometry\"]),\n",
    "    crs=\"epsg:3005\")\n",
    "    def map():\n",
    "        return dfgeo.hvplot(geo=True, hover_cols='Name',tiles=True, xaxis=None, yaxis=None, color=ACCENT, responsive=True)\n",
    "    return pn.Column(\n",
    "        pn.pane.HoloViews(hv.DynamicMap(map), sizing_mode=\"stretch_both\"),\n",
    "                sizing_mode=\"stretch_both\",\n",
    "    )"
   ]
  },
  {
   "cell_type": "code",
   "execution_count": 38,
   "metadata": {},
   "outputs": [],
   "source": [
    "# maybe use geoviews in the future instead of hvplot for the map\n",
    "def hooks(plot, element):\n",
    "            p = plot.state\n",
    "            p.toolbar.autohide= True\n",
    "            p.toolbar.logo = None\n",
    "\n",
    "def create_mapymcmapface(url):\n",
    "    class Map(param.Parameterized):\n",
    "        data = pd.read_csv(url)\n",
    "        value = param.Integer(default=97, bounds=(min(data[\"value\"]), 300000))\n",
    "        @param.depends('value')\n",
    "        def create_map(self):\n",
    "            df = self.data.loc[self.data[\"value\"] >= self.value]\n",
    "            return df.hvplot.points('lon', 'lat', title=\"Most popular stations to start journeys\",\n",
    "                                    geo=True, tiles=True, hover_cols=[\"station\",\"value\"],xaxis=None, yaxis=None, responsive=True).opts(hooks=[hooks], framewise=True)\n",
    "        @param.depends(\"value\")\n",
    "        def view(self):\n",
    "            map = hv.DynamicMap(self.create_map)\n",
    "            return map\n",
    "        \n",
    "    map = Map()\n",
    "    return pn.Column(\n",
    "        pn.Param(map.param, name=\"Foo\"),\n",
    "        map.view, sizing_mode=\"stretch_both\")\n",
    "    \n"
   ]
  },
  {
   "cell_type": "code",
   "execution_count": 45,
   "metadata": {},
   "outputs": [],
   "source": [
    "ACCENT = \"#1c1c1c\"\n",
    "template = FastGridTemplate(\n",
    "    title=\"London TFL Bike Journeys Dashboard\",\n",
    "    row_height=55,\n",
    "    prevent_collision=True,\n",
    "    save_layout=True,\n",
    "    accent_base_color=ACCENT,\n",
    "    header_background=ACCENT,\n",
    "    header_accent_base_color=\"Light Coral\",\n",
    "    theme=DarkTheme,\n",
    "    theme_toggle=False\n",
    ")"
   ]
  },
  {
   "cell_type": "code",
   "execution_count": 46,
   "metadata": {},
   "outputs": [
    {
     "name": "stderr",
     "output_type": "stream",
     "text": [
      "WARNING:param.DynamicMap13364: Setting non-parameter attribute sizing_mode=stretch_both using a mechanism intended only for parameters\n",
      "WARNING:param.DynamicMap13405: Setting non-parameter attribute sizing_mode=stretch_both using a mechanism intended only for parameters\n"
     ]
    }
   ],
   "source": [
    "template.main[:7, 0:6] = _create_map()\n",
    "template.main[:5, 6:11] = _create_barandlinewidget(data=df2, title=\"Trips by month\", x=\"month\", xlabel=\"Month\")\n",
    "template.main[5:6, 6:11] = pn.pane.Markdown(\"      # Total Trips: 76450245\",style={\"margin-top\":\"-30px\", \"padding\":\"0,0,0,0\"}, width=400, height=0, )\n",
    "template.main[7:12, 0:11] = _create_barandline(data=df3, title=\"Trips by time of day\", x=\"time\", y=\"trips\", y2=\"mean\", xlabel=\"Time of day\", ylabel=\"Trips (in millions)\", label=\"Trips\", label2=\"Mean\")\n",
    "template.main[12:18, 0:5] = _create_barandlinewidget(data=df, title=\"Trips by year\", x=\"year\", xlabel=\"Year\")\n",
    "template.main[18:19,0:5] = pn.Row(pn.pane.Markdown(\"#    🚴🚴🚴   Over 800 Docks   🚴🚴🚴\",style={\"margin-top\": \"-25px\"}, width=400, height=10), scroll=False)\n",
    "template.main[12:20,5:11] = create_mapymcmapface(\"./data/stations_start.csv\")\n",
    "template.main[20:20, 0:12] = pn.Spacer()"
   ]
  },
  {
   "cell_type": "code",
   "execution_count": 47,
   "metadata": {},
   "outputs": [
    {
     "name": "stdout",
     "output_type": "stream",
     "text": [
      "Launching server at http://localhost:32849\n"
     ]
    },
    {
     "name": "stderr",
     "output_type": "stream",
     "text": [
      "WARNING:param.BarPlot13830: Plotting hook <function _create_barandlinewidget.<locals>.plot.<locals>.hooks at 0x7f6932789f80> could not be applied:\n",
      "\n",
      " unexpected attribute 'major_label' to LinearAxis, similar attributes are major_label_policy, major_label_standoff or major_label_text_font\n",
      "WARNING:param.BarPlot13830: Plotting hook <function _create_barandlinewidget.<locals>.plot.<locals>.hooks at 0x7f6932789f80> could not be applied:\n",
      "\n",
      " unexpected attribute 'major_label' to LinearAxis, similar attributes are major_label_policy, major_label_standoff or major_label_text_font\n",
      "WARNING:param.BarPlot14336: Plotting hook <function _create_barandlinewidget.<locals>.plot.<locals>.hooks at 0x7f6934d4f4c0> could not be applied:\n",
      "\n",
      " unexpected attribute 'major_label' to LinearAxis, similar attributes are major_label_policy, major_label_standoff or major_label_text_font\n",
      "WARNING:param.BarPlot14336: Plotting hook <function _create_barandlinewidget.<locals>.plot.<locals>.hooks at 0x7f6934d4f4c0> could not be applied:\n",
      "\n",
      " unexpected attribute 'major_label' to LinearAxis, similar attributes are major_label_policy, major_label_standoff or major_label_text_font\n"
     ]
    }
   ],
   "source": [
    "template.servable()\n",
    "template.show()\n",
    "template.save(\"./dashboardFastGrid.html\"    )"
   ]
  }
 ],
 "metadata": {
  "kernelspec": {
   "display_name": "PandasProject",
   "language": "python",
   "name": "python3"
  },
  "language_info": {
   "codemirror_mode": {
    "name": "ipython",
    "version": 3
   },
   "file_extension": ".py",
   "mimetype": "text/x-python",
   "name": "python",
   "nbconvert_exporter": "python",
   "pygments_lexer": "ipython3",
   "version": "3.11.0 (main, Nov  2 2022, 21:01:35) [GCC 12.2.0]"
  },
  "orig_nbformat": 4,
  "vscode": {
   "interpreter": {
    "hash": "4d7f6ab8965084dc52073a2d8482314ba311c7495bf7c7a9639db5992bb0532a"
   }
  }
 },
 "nbformat": 4,
 "nbformat_minor": 2
}
