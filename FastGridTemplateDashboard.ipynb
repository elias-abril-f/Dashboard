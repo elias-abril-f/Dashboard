{
 "cells": [
  {
   "attachments": {},
   "cell_type": "markdown",
   "metadata": {},
   "source": [
    "Load the required libraries and frameworks"
   ]
  },
  {
   "cell_type": "code",
   "execution_count": 3,
   "metadata": {},
   "outputs": [],
   "source": [
    "\n",
    "import holoviews as hv\n",
    "import panel as pn\n",
    "import numpy as np\n",
    "import pandas as pd\n",
    "from panel.template import FastGridTemplate, DarkTheme\n",
    "import hvplot.pandas\n",
    "import param"
   ]
  },
  {
   "attachments": {},
   "cell_type": "markdown",
   "metadata": {},
   "source": [
    "Load the data and declare the colours to be used in the graphs."
   ]
  },
  {
   "cell_type": "code",
   "execution_count": 4,
   "metadata": {},
   "outputs": [],
   "source": [
    "df = pd.read_csv(\"./data/trips_by_year.csv\", sep=\",\")\n",
    "df2 = pd.read_csv(\"./data/trips_by_month.csv\", sep=\",\")\n",
    "df3 = pd.read_csv(\"./data/trips_by_hour.csv\", sep=\",\")\n",
    "df4 = pd.read_csv(\"./data/trips_by_weekday.csv\", sep=\",\")\n",
    "df3[\"mean\"] = df3[\"trips\"].mean()\n",
    "\n",
    "HEADER_ACCENT = \"#1c1c1c\""
   ]
  },
  {
   "attachments": {},
   "cell_type": "markdown",
   "metadata": {},
   "source": [
    "Create a function to create all the combo bar/line charts that can be drawn based on a widget that lets you select the Y axis. It creates the charts based on a parameterized class, that way the widget (selector, slider or any other type) is linked automaticaly, and the chart gets created by calling a self function and sent to a view function that creates a dynamic map, ensuring the chart will update as soon as anything is changed. \n",
    "\n",
    "# To fix https://panel.holoviz.org/user_guide/Param.html"
   ]
  },
  {
   "cell_type": "code",
   "execution_count": 5,
   "metadata": {},
   "outputs": [],
   "source": [
    "# maybe use geoviews in the future instead of hvplot for the map or folio leaflet\n",
    "def _create_barandlinewidget(data, x, main, accent, title=\"title\"):\n",
    "    class Plot(param.Parameterized):\n",
    "        column = param.ObjectSelector(default=f\"trips({x})\", objects=[f\"duration({x})\", f\"trips({x})\"])\n",
    "        \n",
    "        @param.depends('column')\n",
    "        def create_plot(self):\n",
    "            def hooks(plot, element):\n",
    "                p = plot.state\n",
    "                p.toolbar.autohide= True\n",
    "                p.toolbar.logo = None\n",
    "                if \"trips\" in self.column:\n",
    "                    p.yaxis.ticker=[0,2000000,4000000,6000000,8000000]\n",
    "                    p.yaxis.major_label_overrides={0:\"0\",2000000:\"2M\",4000000:\"4M\",6000000:\"6M\",8000000:\"8M\"} \n",
    "                else:\n",
    "                    p.yaxis.ticker = np.arange(0, 1400, 200)\n",
    "                    p.yaxis.major_label.overrides={0:\"0\", 200:\"200\", 400:\"400\", 600:\"600\", 800:\"800\", 1000:\"1000\",1200:\"1200\", 1400:\"1400\"}\n",
    "    \n",
    "            \n",
    "            plot = data.hvplot.bar(x,\n",
    "                                self.column,\n",
    "                                title=\"TEST\",\n",
    "                                #hover_cols=[\"station\",\"value\"],\n",
    "                                color=main,\n",
    "                                line_color=\"white\",\n",
    "                                responsive=True).opts(hooks=[hooks]) \\\n",
    "                                * data.hvplot.line(x,\n",
    "                                                   f\"mean{self.column}\",\n",
    "                                                   color=accent,\n",
    "                                                   line_color=\"white\",\n",
    "                                                   responsive=True)\n",
    "            return plot\n",
    "\n",
    "    plot = Plot()\n",
    "    dmap = hv.DynamicMap(plot.create_plot)\n",
    "    return pn.Column(\n",
    "        pn.Param(plot.param, name=\"Foo\", show_labels=False),\n",
    "        dmap, sizing_mode=\"stretch_both\")\n",
    "    "
   ]
  },
  {
   "attachments": {},
   "cell_type": "markdown",
   "metadata": {},
   "source": [
    "Same as the combination chart, but without a widget to update since this chart doesn't have multiple metrics to show. "
   ]
  },
  {
   "cell_type": "code",
   "execution_count": 6,
   "metadata": {},
   "outputs": [],
   "source": [
    "def _create_barandline(data, main, accent, title=\"Title\"):\n",
    "    \n",
    "    class Plot(param.Parameterized):        \n",
    "        def create_plot(self):\n",
    "            \n",
    "            def hooks(plot, element):\n",
    "                p = plot.state\n",
    "                p.toolbar.autohide = True\n",
    "                p.toolbar.logo = None\n",
    "                p.yaxis.ticker=[0,2000000,4000000,6000000,8000000]\n",
    "                p.yaxis.major_label_overrides={0:\"0\",2000000:\"2M\",4000000:\"4M\",6000000:\"6M\",8000000:\"8M\"} \n",
    "                \n",
    "            return data.hvplot(kind=\"bar\",\n",
    "                            x=\"time\",\n",
    "                            title=title,\n",
    "                            y=\"trips\",\n",
    "                            color=main,\n",
    "                            xlabel=\"Hour\",\n",
    "                            line_color=\"white\",\n",
    "                            responsive=True,\n",
    "                            min_width=350,\n",
    "                            min_height=250,\n",
    "                            ylabel=\"Trips\",\n",
    "                            label=\"Trips\").opts(legend_position='right', hooks=[hooks]) \\\n",
    "                                * data.hvplot(kind=\"line\",\n",
    "                                            x=\"time\",\n",
    "                                            y=\"mean\",\n",
    "                                            responsive=True,\n",
    "                                            color = accent, \n",
    "                                            line_color=\"white\",\n",
    "                                            label=\"Mean\")\n",
    "        def view(self):\n",
    "            plot = hv.DynamicMap(self.create_plot)\n",
    "            return plot\n",
    "        \n",
    "    p = Plot()\n",
    "    return pn.Column(p.view, sizing_mode=\"stretch_both\", margin=(-20,0))"
   ]
  },
  {
   "attachments": {},
   "cell_type": "markdown",
   "metadata": {},
   "source": [
    "Now we create a map with all the docks. In this case, we remove the X and Y axis, since they dont offer any useful information.\n",
    "\n",
    "Same as the other interactive plots that use panel widgets or parameters to filter or select data, we need to be careful not to have the same names (as in the columns or other keys used to select the target of the widget), because if the keyword is the same in different widgets, the plots targeted by those two widgets will become linked. The easiest solution is to name every data column (if using pandas dataframes) something different, for example, relating it to the general dataframe. Eg: if we have two dataframes df1 and df2 with the same columns height and width, we will name the columns height(df1) weight(df1) and height(df2) weight(df2)"
   ]
  },
  {
   "cell_type": "code",
   "execution_count": 7,
   "metadata": {},
   "outputs": [],
   "source": [
    "def _create_map():\n",
    "    df = pd.read_csv(\"./data/coordinatesClean.csv\")\n",
    "    def map():\n",
    "        return df.hvplot.points(\"loncoord\", \"latcoord\", geo=True, hover_cols='Name',tiles=True, xaxis=None, yaxis=None, color=\"#303030\", responsive=True)\n",
    "    return pn.Column(\n",
    "        pn.pane.HoloViews(hv.DynamicMap(map), sizing_mode=\"stretch_both\"),\n",
    "                sizing_mode=\"stretch_both\",\n",
    "    )"
   ]
  },
  {
   "attachments": {},
   "cell_type": "markdown",
   "metadata": {},
   "source": [
    "Although this map looks very similar to the other one. This map has a slider that acts as a filter, showing you the most popular stations to start a trip starting at the value selected in the slider. \n",
    "It works the same way as the other charts with widgets. The function creates a class with a function to create the plot/map, another one to create the dynamic map view and a hooks function to modify the look of the chart/map."
   ]
  },
  {
   "cell_type": "code",
   "execution_count": 8,
   "metadata": {},
   "outputs": [],
   "source": [
    "# maybe use geoviews in the future instead of hvplot for the map or folio leaflet\n",
    "def create_mapymcmapface(url):\n",
    "    class Map(param.Parameterized):\n",
    "        \n",
    "        data = pd.read_csv(url)\n",
    "        value = param.Integer(default=97, bounds=(min(data[\"value\"]), 300000))\n",
    "        \n",
    "        @param.depends('value')\n",
    "        def create_map(self):\n",
    "            def hooks(plot, element):\n",
    "                p = plot.state\n",
    "                p.toolbar.autohide= True\n",
    "                p.toolbar.logo = None\n",
    "            df = self.data.loc[self.data[\"value\"] >= self.value]\n",
    "            return df.hvplot.points('lon', 'lat', title=\"Most popular stations to start journeys\",\n",
    "                                    geo=True, tiles=True, hover_cols=[\"station\",\"value\"],xaxis=None, yaxis=None, color=\"#303030\", responsive=True).opts(hooks=[hooks], framewise=True)\n",
    "        @param.depends(\"value\")\n",
    "        def view(self):\n",
    "            return hv.DynamicMap(self.create_map)\n",
    "    map = Map()\n",
    "    return pn.Column(\n",
    "        pn.Param(map.param, name=\"Foo\", show_labels=False),\n",
    "        map.view, sizing_mode=\"stretch_both\")\n",
    "    \n"
   ]
  },
  {
   "attachments": {},
   "cell_type": "markdown",
   "metadata": {},
   "source": [
    "Now we create the template to make our dashboard look good with minimal effort. In this case I chose the fastgridtemplate, as it allows the user to move and resize the panels, and as you might have noticed, all our charts and maps are responsive, which means they will change in size as we change the size of the panels or our explorer window.\n",
    "Also here we can create a header (and change its colours) and a sidebar (not used in this case). As well as other things like the panel collision, the height of the grid rows and other options. "
   ]
  },
  {
   "cell_type": "code",
   "execution_count": 9,
   "metadata": {},
   "outputs": [],
   "source": [
    "template = FastGridTemplate(\n",
    "    title=\"London TFL Bike Journeys Dashboard\",\n",
    "    row_height=55,\n",
    "    prevent_collision=True,\n",
    "    save_layout=True,\n",
    "    accent_base_color=HEADER_ACCENT,\n",
    "    header_background=HEADER_ACCENT,\n",
    "    header_accent_base_color=\"Light Coral\",\n",
    "    theme=DarkTheme,\n",
    "    theme_toggle=False\n",
    ")"
   ]
  },
  {
   "attachments": {},
   "cell_type": "markdown",
   "metadata": {},
   "source": [
    "Once the template is created, we can add as many panels as we want to the main (the body of the dashboard). We select the position of the added panel in the square brackets, for example, the first element below goes from the start to row 7 and from the start to column 6 and the second element from the start to row 5 and from column 6 to 11. \n",
    " we can also make use of other pn.pane objects like Markdown banners, spacers to make things tidy, etc."
   ]
  },
  {
   "cell_type": "code",
   "execution_count": 10,
   "metadata": {},
   "outputs": [],
   "source": [
    "template.main[:7, 0:6] = _create_map()\n",
    "template.main[:6, 6:11] = _create_barandlinewidget(df2, x=\"month\", main = \"#FFD289\", accent = \"#FACC6B\")\n",
    "template.main[6:7, 6:11] = pn.pane.Markdown(\"      # Total Trips: 76450245\",style={\"margin-top\":\"-30px\", \"padding\":\"0,0,0,0\"}, width=400, height=0, )\n",
    "template.main[7:12, 0:11] = _create_barandline(data=df3, main=\"#78C0E0\", accent=\"#449DD1\", title=\"Trips by time of day\")\n",
    "template.main[12:18, 0:5] = _create_barandlinewidget(data=df, x=\"year\", main=\"#EFC3E6\", accent=\"#9C89B8\")\n",
    "template.main[18:19,0:5] = pn.Row(pn.pane.Markdown(\"#    🚴🚴🚴   Over 800 Docks   🚴🚴🚴\",style={\"margin-top\": \"-25px\"}, width=400, height=10), scroll=False)\n",
    "template.main[12:20,5:11] = create_mapymcmapface(\"./data/stations_start.csv\")\n",
    "template.main[20:30, 0:11] = hvplot.explorer(df4)\n",
    "template.main[40:40, 0:12] = pn.Spacer()"
   ]
  },
  {
   "attachments": {},
   "cell_type": "markdown",
   "metadata": {},
   "source": [
    "Lastly, we call our template object and make it servable to be able to use in our local network. If everything is ok, it will create a local server where our dashboard will run, and give us the address, which can be access from any computer in our local network. \n",
    "#### Optional\n",
    "We can also show our dashboard (it will open in our default browser) and save it, which will create a html file with our dashboard. "
   ]
  },
  {
   "cell_type": "code",
   "execution_count": 11,
   "metadata": {},
   "outputs": [
    {
     "name": "stdout",
     "output_type": "stream",
     "text": [
      "Launching server at http://localhost:43849\n"
     ]
    }
   ],
   "source": [
    "template.servable()\n",
    "template.show()\n",
    "template.save(\"./dashboardFastGrid.html\")"
   ]
  }
 ],
 "metadata": {
  "kernelspec": {
   "display_name": "PandasProject",
   "language": "python",
   "name": "python3"
  },
  "language_info": {
   "codemirror_mode": {
    "name": "ipython",
    "version": 3
   },
   "file_extension": ".py",
   "mimetype": "text/x-python",
   "name": "python",
   "nbconvert_exporter": "python",
   "pygments_lexer": "ipython3",
   "version": "3.11.0"
  },
  "orig_nbformat": 4,
  "vscode": {
   "interpreter": {
    "hash": "4d7f6ab8965084dc52073a2d8482314ba311c7495bf7c7a9639db5992bb0532a"
   }
  }
 },
 "nbformat": 4,
 "nbformat_minor": 2
}
