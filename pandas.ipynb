{
 "cells": [
  {
   "cell_type": "code",
   "execution_count": 20,
   "metadata": {},
   "outputs": [],
   "source": [
    "import pandas as pd\n",
    "import numpy as np"
   ]
  },
  {
   "attachments": {},
   "cell_type": "markdown",
   "metadata": {},
   "source": [
    "This is the initial load of the data from the csv files, loading the coordinates and the trips. Once both files are loaded, we take care of the multiple spellings of the stations names in the trips file by using the coordinates file, matching by the station id, deleting the extra columns and repeating for for the other set of stations (start and end of journey). Once done we save to a csv file to load from here next time and avoid doing all the steps again. "
   ]
  },
  {
   "cell_type": "code",
   "execution_count": null,
   "metadata": {},
   "outputs": [],
   "source": [
    "coord = pd.read_csv(\"./data/coordinatesClean.csv\")\n",
    "trips = pd.read_csv(\"./data/tripsclean.csv\")\n",
    "trips.rename(columns = {'EndStation.Id':'stationid'}, inplace = True)\n",
    "temp = pd.merge(trips, coord, on=\"stationid\", how = \"left\") \n",
    "del temp[\"lat\"]\n",
    "del temp[\"lon\"]\n",
    "del temp[\"EndStation.Name\"]\n",
    "temp.rename(columns = {'station':'end_station_name'}, inplace = True)\n",
    "temp.rename(columns = {\"stationid\":\"end_station_id\"}, inplace = True)\n",
    "temp.rename(columns = {\"StartStation.Id\":\"stationid\"}, inplace = True)\n",
    "temp = pd.merge(temp, coord, on=\"stationid\", how = \"left\") \n",
    "temp.rename(columns = {'station':'start_station_name'}, inplace = True)\n",
    "temp.rename(columns = {\"stationid\":\"start_station_id\"}, inplace = True)\n",
    "del temp[\"StartStation.Name\"]\n",
    "del temp[\"lat\"]\n",
    "del temp[\"lon\"]\n",
    "temp = temp[[\"Rental.Id\",\"Bike.Id\",\"Start.Date\",\"End.Date\",\"Duration\",\"start_station_name\",\"start_station_id\",\"end_station_name\",\"end_station_id\",\"Date\",\"Time\"]]\n",
    "temp.to_csv(\"./data/tripsModified.csv\", index = False)"
   ]
  },
  {
   "attachments": {},
   "cell_type": "markdown",
   "metadata": {},
   "source": [
    "Load the coordinates and the new clean trips file"
   ]
  },
  {
   "cell_type": "code",
   "execution_count": 3,
   "metadata": {},
   "outputs": [],
   "source": [
    "coord = pd.read_csv(\".coordinatesClean.csv\")\n",
    "trips = pd.read_csv(\".tripsModified.csv\")"
   ]
  },
  {
   "cell_type": "code",
   "execution_count": 7,
   "metadata": {},
   "outputs": [],
   "source": [
    "del trips[\"Date\"]\n",
    "trips[\"Start.Date\"] = pd.to_datetime(trips[\"Start.Date\"])\n",
    "trips[\"End.Date\"] = pd.to_datetime(trips[\"End.Date\"])\n",
    "# Extract month and year\n",
    "trips[\"year\"] = trips[\"Start.Date\"].dt.year\n",
    "trips[\"month\"] = trips[\"Start.Date\"].dt.month\n",
    "# Extract day of the week\n",
    "trips[\"dayofweek\"] = trips[\"Start.Date\"].dt.dayofweek\n",
    "trips[\"namedayweek\"] = trips[\"Start.Date\"].dt.day_name"
   ]
  },
  {
   "cell_type": "code",
   "execution_count": 8,
   "metadata": {},
   "outputs": [
    {
     "data": {
      "text/plain": [
       "Rental.Id                      int64\n",
       "Bike.Id                        int64\n",
       "Start.Date            datetime64[ns]\n",
       "End.Date              datetime64[ns]\n",
       "Duration                     float64\n",
       "start_station_name            object\n",
       "start_station_id               int64\n",
       "end_station_name              object\n",
       "end_station_id                 int64\n",
       "Time                           int64\n",
       "year                           int64\n",
       "month                          int64\n",
       "dayofweek                      int64\n",
       "namedayweek                   object\n",
       "dtype: object"
      ]
     },
     "execution_count": 8,
     "metadata": {},
     "output_type": "execute_result"
    }
   ],
   "source": [
    "trips.dtypes"
   ]
  },
  {
   "cell_type": "code",
   "execution_count": 21,
   "metadata": {},
   "outputs": [],
   "source": [
    "trips_by_hour = trips.groupby(\"Time\").size()\n",
    "trips_by_hour.to_csv(\"./data/trips_by_hour.csv\")\n",
    "trips_by_hour = pd.read_csv(\"./data/trips_by_hour.csv\")\n",
    "trips_by_hour.rename(columns = {\"0\":\"Value\"}, inplace = True)\n"
   ]
  },
  {
   "cell_type": "code",
   "execution_count": 23,
   "metadata": {},
   "outputs": [],
   "source": [
    "trips_by_weekday = trips.groupby(\"namedayweek\").size()\n",
    "trips_by_weekday.to_csv(\"./data/trips_by_weekday.csv\")\n",
    "trips_by_weekday = pd.read_csv(\"./data/trips_by_weekday.csv\")\n",
    "trips_by_weekday.rename(columns={\"0\":\"Values\"}, inplace = True)"
   ]
  },
  {
   "cell_type": "code",
   "execution_count": 24,
   "metadata": {},
   "outputs": [
    {
     "data": {
      "text/html": [
       "<div>\n",
       "<style scoped>\n",
       "    .dataframe tbody tr th:only-of-type {\n",
       "        vertical-align: middle;\n",
       "    }\n",
       "\n",
       "    .dataframe tbody tr th {\n",
       "        vertical-align: top;\n",
       "    }\n",
       "\n",
       "    .dataframe thead th {\n",
       "        text-align: right;\n",
       "    }\n",
       "</style>\n",
       "<table border=\"1\" class=\"dataframe\">\n",
       "  <thead>\n",
       "    <tr style=\"text-align: right;\">\n",
       "      <th></th>\n",
       "      <th>month</th>\n",
       "      <th>year</th>\n",
       "      <th>Values</th>\n",
       "    </tr>\n",
       "  </thead>\n",
       "  <tbody>\n",
       "    <tr>\n",
       "      <th>0</th>\n",
       "      <td>1</td>\n",
       "      <td>2015</td>\n",
       "      <td>664646</td>\n",
       "    </tr>\n",
       "    <tr>\n",
       "      <th>1</th>\n",
       "      <td>1</td>\n",
       "      <td>2016</td>\n",
       "      <td>656303</td>\n",
       "    </tr>\n",
       "    <tr>\n",
       "      <th>2</th>\n",
       "      <td>1</td>\n",
       "      <td>2017</td>\n",
       "      <td>680504</td>\n",
       "    </tr>\n",
       "    <tr>\n",
       "      <th>3</th>\n",
       "      <td>1</td>\n",
       "      <td>2018</td>\n",
       "      <td>720358</td>\n",
       "    </tr>\n",
       "    <tr>\n",
       "      <th>4</th>\n",
       "      <td>1</td>\n",
       "      <td>2019</td>\n",
       "      <td>762991</td>\n",
       "    </tr>\n",
       "    <tr>\n",
       "      <th>...</th>\n",
       "      <td>...</td>\n",
       "      <td>...</td>\n",
       "      <td>...</td>\n",
       "    </tr>\n",
       "    <tr>\n",
       "      <th>91</th>\n",
       "      <td>12</td>\n",
       "      <td>2018</td>\n",
       "      <td>656357</td>\n",
       "    </tr>\n",
       "    <tr>\n",
       "      <th>92</th>\n",
       "      <td>12</td>\n",
       "      <td>2019</td>\n",
       "      <td>619111</td>\n",
       "    </tr>\n",
       "    <tr>\n",
       "      <th>93</th>\n",
       "      <td>12</td>\n",
       "      <td>2020</td>\n",
       "      <td>665086</td>\n",
       "    </tr>\n",
       "    <tr>\n",
       "      <th>94</th>\n",
       "      <td>12</td>\n",
       "      <td>2021</td>\n",
       "      <td>707975</td>\n",
       "    </tr>\n",
       "    <tr>\n",
       "      <th>95</th>\n",
       "      <td>12</td>\n",
       "      <td>2022</td>\n",
       "      <td>204905</td>\n",
       "    </tr>\n",
       "  </tbody>\n",
       "</table>\n",
       "<p>96 rows × 3 columns</p>\n",
       "</div>"
      ],
      "text/plain": [
       "    month  year  Values\n",
       "0       1  2015  664646\n",
       "1       1  2016  656303\n",
       "2       1  2017  680504\n",
       "3       1  2018  720358\n",
       "4       1  2019  762991\n",
       "..    ...   ...     ...\n",
       "91     12  2018  656357\n",
       "92     12  2019  619111\n",
       "93     12  2020  665086\n",
       "94     12  2021  707975\n",
       "95     12  2022  204905\n",
       "\n",
       "[96 rows x 3 columns]"
      ]
     },
     "execution_count": 24,
     "metadata": {},
     "output_type": "execute_result"
    }
   ],
   "source": [
    "trips_by_month = trips.groupby([\"month\", \"year\"]).size()\n",
    "trips_by_month.to_csv(\"./data/trips_by_month.csv\")\n",
    "trips_by_month = pd.read_csv(\"./data/trips_by_month.csv\")\n",
    "trips_by_month.rename(columns = {\"0\":\"Values\"})\n"
   ]
  },
  {
   "cell_type": "code",
   "execution_count": 25,
   "metadata": {},
   "outputs": [
    {
     "data": {
      "text/html": [
       "<div>\n",
       "<style scoped>\n",
       "    .dataframe tbody tr th:only-of-type {\n",
       "        vertical-align: middle;\n",
       "    }\n",
       "\n",
       "    .dataframe tbody tr th {\n",
       "        vertical-align: top;\n",
       "    }\n",
       "\n",
       "    .dataframe thead th {\n",
       "        text-align: right;\n",
       "    }\n",
       "</style>\n",
       "<table border=\"1\" class=\"dataframe\">\n",
       "  <thead>\n",
       "    <tr style=\"text-align: right;\">\n",
       "      <th></th>\n",
       "      <th>year</th>\n",
       "      <th>Values</th>\n",
       "    </tr>\n",
       "  </thead>\n",
       "  <tbody>\n",
       "    <tr>\n",
       "      <th>0</th>\n",
       "      <td>2015</td>\n",
       "      <td>9307969</td>\n",
       "    </tr>\n",
       "    <tr>\n",
       "      <th>1</th>\n",
       "      <td>2016</td>\n",
       "      <td>9982560</td>\n",
       "    </tr>\n",
       "    <tr>\n",
       "      <th>2</th>\n",
       "      <td>2017</td>\n",
       "      <td>9077896</td>\n",
       "    </tr>\n",
       "    <tr>\n",
       "      <th>3</th>\n",
       "      <td>2018</td>\n",
       "      <td>10441836</td>\n",
       "    </tr>\n",
       "    <tr>\n",
       "      <th>4</th>\n",
       "      <td>2019</td>\n",
       "      <td>10309965</td>\n",
       "    </tr>\n",
       "    <tr>\n",
       "      <th>5</th>\n",
       "      <td>2020</td>\n",
       "      <td>10287039</td>\n",
       "    </tr>\n",
       "    <tr>\n",
       "      <th>6</th>\n",
       "      <td>2021</td>\n",
       "      <td>10821288</td>\n",
       "    </tr>\n",
       "    <tr>\n",
       "      <th>7</th>\n",
       "      <td>2022</td>\n",
       "      <td>6221692</td>\n",
       "    </tr>\n",
       "  </tbody>\n",
       "</table>\n",
       "</div>"
      ],
      "text/plain": [
       "   year    Values\n",
       "0  2015   9307969\n",
       "1  2016   9982560\n",
       "2  2017   9077896\n",
       "3  2018  10441836\n",
       "4  2019  10309965\n",
       "5  2020  10287039\n",
       "6  2021  10821288\n",
       "7  2022   6221692"
      ]
     },
     "execution_count": 25,
     "metadata": {},
     "output_type": "execute_result"
    }
   ],
   "source": [
    "trips_by_year = trips.groupby([\"year\"]).size()\n",
    "trips_by_year.to_csv(\"./data/trips_by_year.csv\")\n",
    "trips_by_year = pd.read_csv(\"./data/trips_by_year.csv\")\n",
    "trips_by_year.rename(columns = {\"0\":\"Values\"})"
   ]
  },
  {
   "cell_type": "code",
   "execution_count": 26,
   "metadata": {},
   "outputs": [],
   "source": [
    "max_trip_duration = max(trips.Duration)\n",
    "avg_trip_duration = trips.Duration.mean()"
   ]
  },
  {
   "cell_type": "code",
   "execution_count": 27,
   "metadata": {},
   "outputs": [],
   "source": [
    "stations_start = pd.DataFrame(trips.groupby(\"start_station_name\").size())\n",
    "stations_start.to_csv(\"./data/stations_start.csv\")\n",
    "stations_start = pd.read_csv(\"./data/stations_start.csv\")\n",
    "stations_start.rename(columns = {\"0\":\"Trips\"}, inplace = True)"
   ]
  },
  {
   "cell_type": "code",
   "execution_count": 28,
   "metadata": {},
   "outputs": [],
   "source": [
    "stations_end = pd.DataFrame(trips.groupby(\"end_station_name\").size())\n",
    "stations_end.to_csv(\"./data/stations_end.csv\")\n",
    "stations_end = pd.read_csv(\"./data/stations_end.csv\")\n",
    "stations_end.rename(columns = {\"0\":\"Trips\"}, inplace = True)"
   ]
  },
  {
   "cell_type": "code",
   "execution_count": 29,
   "metadata": {},
   "outputs": [],
   "source": [
    "popular_journeys = pd.DataFrame(trips.groupby([\"start_station_name\", \"end_station_name\"]).size())\n",
    "popular_journeys.to_csv(\"./data/popular_journeys.csv\")\n",
    "popular_journeys = pd.read_csv(\"./data/popular_journeys.csv\")\n",
    "popular_journeys.rename(columns={\"0\":\"Values\"}, inplace = True)"
   ]
  },
  {
   "cell_type": "code",
   "execution_count": 30,
   "metadata": {},
   "outputs": [
    {
     "data": {
      "text/plain": [
       "43031"
      ]
     },
     "execution_count": 30,
     "metadata": {},
     "output_type": "execute_result"
    }
   ],
   "source": [
    "len(popular_journeys.loc[popular_journeys[\"Values\"] == 1])"
   ]
  },
  {
   "cell_type": "code",
   "execution_count": 31,
   "metadata": {},
   "outputs": [],
   "source": [
    "bikes = pd.DataFrame(trips.groupby(\"Bike.Id\").size())\n",
    "bikes.to_csv(\"./data/bikes.csv\")\n",
    "bikes = pd.read_csv(\"./data/bikes.csv\")\n",
    "bikes.rename(columns={\"0\":\"Values\"}, inplace = True)\n"
   ]
  },
  {
   "cell_type": "code",
   "execution_count": 32,
   "metadata": {},
   "outputs": [],
   "source": [
    "avg_duration_station = trips.groupby(\"start_station_name\").agg({\"Duration\": \"mean\"})\n",
    "avg_duration_station.to_csv(\"./data/avg_duration_station.csv\")\n",
    "avg_duration_station = pd.read_csv(\"./data/avg_duration_station.csv\")\n",
    "avg_duration_station.rename(columns={\"0\":\"Values\"}, inplace = True)\n"
   ]
  },
  {
   "cell_type": "code",
   "execution_count": 33,
   "metadata": {},
   "outputs": [],
   "source": [
    "avg_duration_by_day_week = trips.groupby(\"dayofweek\").agg({\"Duration\":\"mean\"})\n",
    "avg_duration_by_day_week.to_csv(\"./data/avg_duration_by_day_week.csv\")\n",
    "avg_duration_by_day_week = pd.read_csv(\"./data/avg_duration_by_day_week.csv\")\n",
    "avg_duration_by_day_week.rename(columns={\"0\":\"Values\"}, inplace = True)\n"
   ]
  },
  {
   "cell_type": "code",
   "execution_count": 35,
   "metadata": {},
   "outputs": [],
   "source": [
    "avg_duration_by_day_week_month = trips.groupby([\"dayofweek\",\"month\"]).agg({\"Duration\":\"mean\"})\n",
    "avg_duration_by_day_week_month.to_csv(\"./data/avg_duration_by_day_week_month.csv\")\n",
    "avg_duration_by_day_week_month = pd.read_csv(\"./data/avg_duration_by_day_week_month.csv\")\n",
    "avg_duration_by_day_week_month.rename(columns={\"0\":\"Values\"}, inplace = True)"
   ]
  },
  {
   "cell_type": "code",
   "execution_count": 36,
   "metadata": {},
   "outputs": [],
   "source": [
    "avg_duration_by_month = trips.groupby([\"month\"]).agg({\"Duration\":\"mean\"})\n",
    "avg_duration_by_month.to_csv(\"./data/avg_duration_by_month.csv\")\n",
    "avg_duration_by_month = pd.read_csv(\"./data/avg_duration_by_month.csv\")\n",
    "avg_duration_by_month.rename(columns={\"0\":\"Values\"}, inplace = True)"
   ]
  },
  {
   "cell_type": "code",
   "execution_count": 37,
   "metadata": {},
   "outputs": [],
   "source": [
    "avg_duration_by_year = trips.groupby([\"year\"]).agg({\"Duration\":\"mean\"})\n",
    "avg_duration_by_year.to_csv(\"./data/avg_duration_by_year.csv\")\n",
    "avg_duration_by_year = pd.read_csv(\"./data/avg_duration_by_year.csv\")\n",
    "avg_duration_by_year.rename(columns={\"0\":\"Values\"}, inplace = True)"
   ]
  }
 ],
 "metadata": {
  "kernelspec": {
   "display_name": "Python 3",
   "language": "python",
   "name": "python3"
  },
  "language_info": {
   "codemirror_mode": {
    "name": "ipython",
    "version": 3
   },
   "file_extension": ".py",
   "mimetype": "text/x-python",
   "name": "python",
   "nbconvert_exporter": "python",
   "pygments_lexer": "ipython3",
   "version": "3.10.9"
  },
  "orig_nbformat": 4,
  "vscode": {
   "interpreter": {
    "hash": "cc2a200e1e6dab10c4dc3986f0e7a998296447c993c26561a1bd050a849d8214"
   }
  }
 },
 "nbformat": 4,
 "nbformat_minor": 2
}
